{
 "cells": [
  {
   "cell_type": "markdown",
   "id": "4831fa28",
   "metadata": {},
   "source": [
    "## Exercise 1"
   ]
  },
  {
   "cell_type": "markdown",
   "id": "c624a2d3",
   "metadata": {},
   "source": [
    "#### Question 1:\n",
    "Write a function that receives a list as parameter and return how many elements it has; if it doesn't have any element return an error."
   ]
  },
  {
   "cell_type": "markdown",
   "id": "a61c0194",
   "metadata": {},
   "source": [
    "#### Answer 1:"
   ]
  },
  {
   "cell_type": "code",
   "execution_count": null,
   "id": "d9da640f",
   "metadata": {},
   "outputs": [
    {
     "data": {
      "text/plain": [
       "3"
      ]
     },
     "metadata": {},
     "output_type": "display_data"
    }
   ],
   "source": [
    "def how_many_elements(list:list):\n",
    "    element = len(list)\n",
    "    return element\n",
    "how_many_elements([3,6,7])"
   ]
  },
  {
   "cell_type": "markdown",
   "id": "e3ecfa2a",
   "metadata": {},
   "source": [
    "#### Question 2:\n",
    "Write a function that builds a character‑count dict from a string, with an option to ignore case."
   ]
  },
  {
   "cell_type": "markdown",
   "id": "92945424",
   "metadata": {},
   "source": [
    "#### Answer 2:"
   ]
  },
  {
   "cell_type": "code",
   "execution_count": null,
   "id": "2b82ea8f",
   "metadata": {},
   "outputs": [
    {
     "data": {
      "text/plain": [
       "{'h': 2, 'e': 1, 'l': 3, 'o': 1}"
      ]
     },
     "metadata": {},
     "output_type": "display_data"
    }
   ],
   "source": [
    "def character_count(string:str) -> dict:\n",
    "    string = string.lower()\n",
    "    counter = 0\n",
    "    counter_dict = {}\n",
    "    for item in string:\n",
    "        if item in counter_dict.keys():\n",
    "            counter_dict[item] +=1 \n",
    "        else:\n",
    "            counter_dict[item] = 1\n",
    "    return counter_dict\n",
    "character_count(\"hHelllo\")"
   ]
  },
  {
   "cell_type": "markdown",
   "id": "93aa2e84",
   "metadata": {},
   "source": [
    "#### Question 3:\n",
    "Write a function that filters a list of numbers by a threshold and returns their squares"
   ]
  },
  {
   "cell_type": "markdown",
   "id": "89553a1d",
   "metadata": {},
   "source": [
    "#### Answer 3:"
   ]
  },
  {
   "cell_type": "code",
   "execution_count": null,
   "id": "bea72a55",
   "metadata": {},
   "outputs": [
    {
     "data": {
      "text/plain": [
       "[1, 4, 9, 16]"
      ]
     },
     "metadata": {},
     "output_type": "display_data"
    }
   ],
   "source": [
    "def square_function(list_of_nums:list, threshold:int):\n",
    "    square_list=[]\n",
    "    for item in list_of_nums:\n",
    "        if item < threshold:\n",
    "            square_list.append(item**2)\n",
    "    return square_list\n",
    "square_function([1,2,3,4,5,6], 5)"
   ]
  },
  {
   "cell_type": "code",
   "execution_count": null,
   "id": "bd1012fb",
   "metadata": {},
   "outputs": [],
   "source": []
  }
 ],
 "metadata": {
  "language_info": {
   "name": "python"
  }
 },
 "nbformat": 4,
 "nbformat_minor": 5
}
